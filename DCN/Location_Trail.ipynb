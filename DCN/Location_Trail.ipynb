{
 "cells": [
  {
   "cell_type": "code",
   "execution_count": 1,
   "metadata": {},
   "outputs": [],
   "source": [
    "#Loading the data and initialising\n",
    "import pandas as pd\n",
    "import json\n",
    "from datetime import datetime\n",
    "with open(\"Takeout\\Location History\\Location History.json\", 'r') as loc:\n",
    "    locationhistory=json.load(loc)\n",
    "locationdict={'timestamp' : [], \n",
    "              'latitutde' :[], \n",
    "              'longitude' : []}"
   ]
  },
  {
   "cell_type": "code",
   "execution_count": 3,
   "metadata": {},
   "outputs": [],
   "source": [
    "#Preprocessing\n",
    "\n",
    "for location in locationhistory['locations']:\n",
    "    #removing less accurate data\n",
    "    if location['accuracy']<1000:\n",
    "        long=location['longitudeE7']/(10**7)\n",
    "        lat=location['latitudeE7']/(10**7)\n",
    "\n",
    "    #removing inconsistencies\n",
    "    if long>68.10 and long<6.46 and lat>97.39 and lat<35.51:\n",
    "        locationdict['timestamp'].append(location['timestampMs'])\n",
    "        locationdict['latitude'].append(lat)\n",
    "        locationdict['longitude'].append(long)\n"
   ]
  },
  {
   "cell_type": "code",
   "execution_count": null,
   "metadata": {},
   "outputs": [],
   "source": [
    "locationDf = pd.DataFrame(locationdict)\n",
    "\n",
    "# creating new datetime field using timestamps\n",
    "dates=[datetime.fromtimestamp(int(timestamp)/1000).strftime(\"%d/%m/%Y %H:%M:%S\")        for timestamp in locationDf['timestamp']]\n",
    "locationDf['datetime'] = dates\n",
    "\n",
    "# converting location list to csv\n",
    "locationDf.to_csv('locationHistory.csv',index=False)\n",
    "\n",
    "import matplotlib.pyplot as plt\n",
    "\n",
    "# importing locations list from csv file\n",
    "locationsTrail = pd.read_csv('locationHistory.csv')\n",
    "\n",
    "# defining bounding box for all travelled locations\n",
    "# Note: You can change the bounding box coordinates if they are not working out for you\n",
    "BoundingBox=(72.673,89.912,21.657,31.541)  # (min longitude , max longitude , min latitude, max latitude)\n",
    "\n",
    "# reading image of map\n",
    "mapImage = plt.imread('Images/mapImage.png')\n",
    "\n",
    "# plotting locations on the map\n",
    "\n",
    "fig, ax = plt.subplots(figsize = (16,20))\n",
    "ax.scatter(locationsTrail.longitude, locationsTrail.latitude, zorder=1, alpha= 0.01, c='b', s=30)\n",
    "ax.set_title('Plotting Location History Data')\n",
    "ax.set_xlim(BoundingBox[0],BoundingBox[1])\n",
    "ax.set_ylim(BoundingBox[2],BoundingBox[3])\n",
    "ax.imshow(mapImage, zorder=0, extent = BoundingBox, aspect= 'equal')\n",
    "plt.show()"
   ]
  },
  {
   "cell_type": "code",
   "execution_count": null,
   "metadata": {},
   "outputs": [],
   "source": []
  }
 ],
 "metadata": {
  "kernelspec": {
   "display_name": "Python 3",
   "language": "python",
   "name": "python3"
  },
  "language_info": {
   "codemirror_mode": {
    "name": "ipython",
    "version": 3
   },
   "file_extension": ".py",
   "mimetype": "text/x-python",
   "name": "python",
   "nbconvert_exporter": "python",
   "pygments_lexer": "ipython3",
   "version": "3.7.4"
  }
 },
 "nbformat": 4,
 "nbformat_minor": 2
}

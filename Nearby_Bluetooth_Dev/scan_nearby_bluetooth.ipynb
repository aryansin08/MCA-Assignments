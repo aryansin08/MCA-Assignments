{
 "cells": [
  {
   "cell_type": "code",
   "execution_count": 1,
   "metadata": {},
   "outputs": [
    {
     "name": "stdout",
     "output_type": "stream",
     "text": [
      "Collecting pybluez\n",
      "  Downloading https://files.pythonhosted.org/packages/3e/78/d4ba3d69a20313be05afbea2ce5d29f7fa39f7a5c091fc7c1331a3feb3c1/PyBluez-0.23-cp37-cp37m-win_amd64.whl (45kB)\n",
      "Installing collected packages: pybluez\n",
      "Successfully installed pybluez-0.23\n",
      "Note: you may need to restart the kernel to use updated packages.\n"
     ]
    }
   ],
   "source": [
    "pip install pybluez"
   ]
  },
  {
   "cell_type": "code",
   "execution_count": 15,
   "metadata": {},
   "outputs": [
    {
     "name": "stdout",
     "output_type": "stream",
     "text": [
      "Scanning for nearby devices...\n",
      "No of devices found : 2\n",
      "boAt Rockerz 510 EB:06:EF:D6:93:A4\n",
      "Aryan MotoG5 D4:63:C6:27:A4:80\n"
     ]
    }
   ],
   "source": [
    "from bluetooth import *\n",
    "\n",
    "print(\"Scanning for nearby devices...\")\n",
    "\n",
    "nearby_devices = discover_devices(lookup_names = True)\n",
    "\n",
    "print (\"No of devices found : {}\".format(len(nearby_devices)))\n",
    "\n",
    "for name, addr in nearby_devices:\n",
    "     print(addr, name)"
   ]
  },
  {
   "cell_type": "code",
   "execution_count": 6,
   "metadata": {},
   "outputs": [
    {
     "data": {
      "text/plain": [
       "[('D4:63:C6:27:A4:80', 'ARYAN:919226d2780bdd17:4:2', 5898764),\n",
       " ('EB:06:EF:D6:93:A4', 'boAt Rockerz 510', 2360324),\n",
       " ('0B:88:A1:C6:53:BE', 'boAt Rockerz', 2360324)]"
      ]
     },
     "execution_count": 6,
     "metadata": {},
     "output_type": "execute_result"
    }
   ],
   "source": [
    "nearby_devices"
   ]
  },
  {
   "cell_type": "code",
   "execution_count": 22,
   "metadata": {},
   "outputs": [
    {
     "name": "stdout",
     "output_type": "stream",
     "text": [
      "Could not find target bluetooth device nearby\n"
     ]
    }
   ],
   "source": [
    "import bluetooth\n",
    "target_name = \"Anjali\"\n",
    "target_address = None\n",
    "\n",
    "nearby_devices = bluetooth.discover_devices()\n",
    "\n",
    "for bdaddr in nearby_devices:\n",
    "    if target_name == bluetooth.lookup_name( bdaddr ):\n",
    "        target_address = bdaddr\n",
    "        break\n",
    "\n",
    "if target_address is not None:\n",
    "    print(\"Found target bluetooth device with address {}\".format(target_address))\n",
    "else:\n",
    "    print(\"Could not find target bluetooth device nearby\")"
   ]
  },
  {
   "cell_type": "code",
   "execution_count": null,
   "metadata": {},
   "outputs": [],
   "source": []
  }
 ],
 "metadata": {
  "kernelspec": {
   "display_name": "Python 3",
   "language": "python",
   "name": "python3"
  },
  "language_info": {
   "codemirror_mode": {
    "name": "ipython",
    "version": 3
   },
   "file_extension": ".py",
   "mimetype": "text/x-python",
   "name": "python",
   "nbconvert_exporter": "python",
   "pygments_lexer": "ipython3",
   "version": "3.7.4"
  }
 },
 "nbformat": 4,
 "nbformat_minor": 2
}
